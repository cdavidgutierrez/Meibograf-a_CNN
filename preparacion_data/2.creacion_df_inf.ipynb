{
 "cells": [
  {
   "cell_type": "code",
   "execution_count": 16,
   "id": "279c80f7",
   "metadata": {
    "ExecuteTime": {
     "end_time": "2022-10-20T21:32:13.453993Z",
     "start_time": "2022-10-20T21:32:13.443641Z"
    }
   },
   "outputs": [],
   "source": [
    "import os\n",
    "import pandas as pd"
   ]
  },
  {
   "cell_type": "code",
   "execution_count": 20,
   "id": "546b5032",
   "metadata": {
    "ExecuteTime": {
     "end_time": "2022-10-20T21:37:12.365847Z",
     "start_time": "2022-10-20T21:37:12.285811Z"
    }
   },
   "outputs": [
    {
     "data": {
      "text/plain": [
       "37"
      ]
     },
     "execution_count": 20,
     "metadata": {},
     "output_type": "execute_result"
    }
   ],
   "source": [
    "lista_imagenes_segmentadas = os.listdir('segmentacion/')\n",
    "lista_imagenes_segmentadas\n",
    "lista_imagenes_crudas = os.listdir()\n",
    "lista_imagenes_crudas.remove(\".ipynb_checkpoints\")\n",
    "lista_imagenes_crudas.remove(\"2.creacion_df_inf.ipynb\")\n",
    "lista_imagenes_crudas.remove(\"segmentacion\")\n",
    "lista_imagenes_crudas.remove(\"old\")\n",
    "lista_imagenes_crudas\n",
    "\n",
    "lista_imagenes_crudas.sort()\n",
    "lista_imagenes_segmentadas.sort()\n",
    "\n",
    "df_mask = pd.DataFrame({'imagenes':lista_imagenes_crudas,'mascaras': lista_imagenes_segmentadas})\n",
    "df_mask.to_csv('mascaras_inf.csv', index= False)\n",
    "len(lista_imagenes_crudas)"
   ]
  },
  {
   "cell_type": "code",
   "execution_count": 19,
   "id": "5e60718e",
   "metadata": {
    "ExecuteTime": {
     "end_time": "2022-10-20T21:33:24.736022Z",
     "start_time": "2022-10-20T21:33:24.717356Z"
    }
   },
   "outputs": [
    {
     "name": "stdout",
     "output_type": "stream",
     "text": [
      "ALARCON GOMEZ_VALENTINA_Binocular_2021_01_27-13_40_39_Visualización análisis lista de trabajo.labels.jpg\n",
      "ALARCON GOMEZ_VALENTINA_Binocular_2021_01_27-13_40_39_Visualización análisis lista de trabajo.jpg\n",
      "\n",
      "\n",
      "ALARCON GOMEZ_VALENTINA_Binocular_2021_01_27-13_40_39_Visualización análisis lista de trabajoOI.labels.jpg\n",
      "ALARCON GOMEZ_VALENTINA_Binocular_2021_01_27-13_40_39_Visualización análisis lista de trabajoOI.jpg\n",
      "\n",
      "\n",
      "ALARCON LOZANO_LUISA FERNANDA_Binocular_2021_08_21-10_40_38_Visualización análisis lista de trabajo.labels.jpg\n",
      "ALARCON LOZANO_LUISA FERNANDA_Binocular_2021_08_21-10_40_38_Visualización análisis lista de trabajo.jpg\n",
      "\n",
      "\n",
      "ALARCON LOZANO_LUISA FERNANDA_Binocular_2021_08_21-10_40_38_Visualización análisis lista de trabajoOI.labels.jpg\n",
      "ALARCON LOZANO_LUISA FERNANDA_Binocular_2021_08_21-10_40_38_Visualización análisis lista de trabajoOI.jpg\n",
      "\n",
      "\n",
      "ARAGON HERNANDEZ_VALENTINA_Binocular_2022_05_31-11_27_10_Visualización análisis lista de trabajo.labels.jpg\n",
      "ARAGON HERNANDEZ_VALENTINA_Binocular_2022_05_31-11_27_10_Visualización análisis lista de trabajo.jpg\n",
      "\n",
      "\n",
      "ARAGON HERNANDEZ_VALENTINA_Binocular_OIe trabajo.labels.jpg\n",
      "ARAGON HERNANDEZ_VALENTINA_Binocular_OIe trabajo.jpg\n",
      "\n",
      "\n",
      "ARCHILA_ORFA_Binocular_2020_03_02-16_44_27_Visualización análisis lista de trabajo.labels.jpg\n",
      "ARCHILA_ORFA_Binocular_2020_03_02-16_44_27_Visualización análisis lista de trabajo.jpg\n",
      "\n",
      "\n",
      "ARCHILA_ORFA_Binocular_2020_03_02-16_44_27_Visualización análisis lista de trabajoOI.labels.jpg\n",
      "ARCHILA_ORFA_Binocular_2020_03_02-16_44_27_Visualización análisis lista de trabajoOI.jpg\n",
      "\n",
      "\n",
      "ARENAS VERA_ADRIANA MARIA_Binocular_2022_06_01-13_18_24_2Visualización análisis lista de trabajo.labels.jpg\n",
      "ARENAS VERA_ADRIANA MARIA_Binocular_2022_06_01-13_18_24_Visualización análisis lista de trabajo.jpg\n",
      "\n",
      "\n",
      "ARENAS VERA_ADRIANA MARIA_Binocular_2022_06_01-13_18_24_Visualización análisis lista de trabajo.labels.jpg\n",
      "ARENAS VERA_ADRIANA MARIA_Binocular_2022_06_01-13_18_24_Visualización análisis lista de trabajo.png\n",
      "\n",
      "\n",
      "AVENDAÑO BARRIOS_MAYRA ALEJANDRA_Binocular_2021_09_08-11_01_13_Visualización análisis lista de trabajo.labels.tif\n",
      "AVENDAÑO BARRIOS_MAYRA ALEJANDRA_Binocular_2021_09_08-11_01_13_Visualización análisis lista de trabajo.jpg\n",
      "\n",
      "\n",
      "AVENDAÑO_SANDRA_Binocular_2019_11_16-08_32_45_Visualización análisis lista de trabajo.labels.jpg\n",
      "AVENDAÑO_SANDRA_Binocular_2019_11_16-08_32_45_Visualización análisis lista de trabajo.jpg\n",
      "\n",
      "\n",
      "AVENDAÑO_SANDRA_Binocular_2019_11_16-08_32_45_Visualización análisis lista de trabajoOI.labels.jpg\n",
      "AVENDAÑO_SANDRA_Binocular_2019_11_16-08_32_45_Visualización análisis lista de trabajoOI.jpg\n",
      "\n",
      "\n",
      "Avila Matamoros_Maria Margarita_Binocular_2019_09_11-14_39_38_Visualización análisis lista de trabajo.labels.jpg\n",
      "Avila Matamoros_Maria Margarita_Binocular_2019_09_11-14_39_38_Visualización análisis lista de trabajo.jpg\n",
      "\n",
      "\n",
      "Avila Matamoros_Maria Margarita_Binocular_2019_09_11-14_39_38_Visualización análisis lista de trabajoOI.labels.jpg\n",
      "Avila Matamoros_Maria Margarita_Binocular_2019_09_11-14_39_38_Visualización análisis lista de trabajoOI.jpg\n",
      "\n",
      "\n",
      "BALAGUERA CONSUEGRA_JAVIER EDUARDO_Binocular_2022_05_12-16_21_13_Visualización análisis lista de trabajo.labels.jpg\n",
      "BALAGUERA CONSUEGRA_JAVIER EDUARDO_Binocular_2022_05_12-16_21_13_Visualización análisis lista de trabajo.jpg\n",
      "\n",
      "\n",
      "BALAGUERA CONSUEGRA_JAVIER EDUARDO_Binocular_2022_05_12-16_21_13_Visualización análisis lista de trabajoOI.labels.jpg\n",
      "BALAGUERA CONSUEGRA_JAVIER EDUARDO_Binocular_2022_05_12-16_21_13_Visualización análisis lista de trabajoOI.jpg\n",
      "\n",
      "\n",
      "BAQUERO MUJICA_GINNA KATHERINE_Binocular_2020_02_11-15_06_24_Visualización análisis lista de trabajo.labels.jpg\n",
      "BAQUERO MUJICA_GINNA KATHERINE_Binocular_2020_02_11-15_06_24_Visualización análisis lista de trabajo.jpg\n",
      "\n",
      "\n",
      "BAQUERO MUJICA_GINNA KATHERINE_Binocular_2020_02_11-15_06_24_Visualización análisis lista de trabajoOI.labels.jpg\n",
      "BAQUERO MUJICA_GINNA KATHERINE_Binocular_2020_02_11-15_06_24_Visualización análisis lista de trabajoOI.jpg\n",
      "\n",
      "\n",
      "BAQUERO TORRES_ALEXANDRA_Binocular_2022_06_06-17_44_31_Visualización análisis lista de trabajo.labels.jpg\n",
      "BAQUERO TORRES_ALEXANDRA_Binocular_2022_06_06-17_44_31_Visualización análisis lista de trabajo.jpg\n",
      "\n",
      "\n",
      "BAQUERO TORRES_ALEXANDRA_Binocular_2022_06_06-17_44_31_Visualización análisis lista de trabajoOI.labels.jpg\n",
      "BAQUERO TORRES_ALEXANDRA_Binocular_2022_06_06-17_44_31_Visualización análisis lista de trabajoOI.jpg\n",
      "\n",
      "\n",
      "BARACALDO LEON_MARIA PAULA_Binocular_2020_12_11-12_15_10_Visualización análisis lista de trabajo.labels.jpg\n",
      "BARACALDO LEON_MARIA PAULA_Binocular_2020_12_11-12_15_10_Visualización análisis lista de trabajo.jpg\n",
      "\n",
      "\n",
      "BARACALDO LEON_MARIA PAULA_Binocular_2020_12_11-12_15_10_Visualización análisis lista de trabajoOI.labels.jpg\n",
      "BARACALDO LEON_MARIA PAULA_Binocular_2020_12_11-12_15_10_Visualización análisis lista de trabajoOI.jpg\n",
      "\n",
      "\n",
      "BARRERA PIÑARETE_ANGIE VALENTINA_Binocular_2020_11_27-13_01_00_Visualización análisis lista de trabajo.labels.jpg\n",
      "BARRERA PIÑARETE_ANGIE VALENTINA_Binocular_2020_11_27-13_01_00_Visualización análisis lista de trabajo.jpg\n",
      "\n",
      "\n",
      "BARRERA PIÑARETE_ANGIE VALENTINA_Binocular_2020_11_27-13_01_00_Visualización análisis lista de trabajoOI.labels.jpg\n",
      "BARRERA PIÑARETE_ANGIE VALENTINA_Binocular_2020_11_27-13_01_00_Visualización análisis lista de trabajoOI.jpg\n",
      "\n",
      "\n",
      "BARRERA VEGA_SILVIA JULIANA_Binocular_2022_05_13-09_36_59_Visualización análisis lista de trabajo.labels.jpg\n",
      "BARRERA VEGA_SILVIA JULIANA_Binocular_2022_05_13-09_36_59_Visualización análisis lista de trabajo.jpg\n",
      "\n",
      "\n",
      "BARRERA VEGA_SILVIA JULIANA_Binocular_2022_05_13-09_36_59_Visualización análisis lista de trabajoOI.labels.jpg\n",
      "BARRERA VEGA_SILVIA JULIANA_Binocular_2022_05_13-09_36_59_Visualización análisis lista de trabajoOI.jpg\n",
      "\n",
      "\n",
      "BARRETO CORREA_HAMILTON_Binocular_2022_06_06-18_14_44_Visualización análisis lista de trabajo.labels.jpg\n",
      "BARRETO CORREA_HAMILTON_Binocular_2022_06_06-18_14_44_Visualización análisis lista de trabajo.jpg\n",
      "\n",
      "\n",
      "BARRETO CORREA_HAMILTON_Binocular_2022_06_06-18_14_44_Visualización análisis lista de trabajoOI.labels.jpg\n",
      "BARRETO CORREA_HAMILTON_Binocular_2022_06_06-18_14_44_Visualización análisis lista de trabajoOI.jpg\n",
      "\n",
      "\n",
      "BARRIOS MARTINEZ_LEIDY PAOLA_Binocular_2022_07_01-11_01_08_Visualización análisis lista de trabajo.labels.jpg\n",
      "BARRIOS MARTINEZ_LEIDY PAOLA_Binocular_2022_07_01-11_01_08_Visualización análisis lista de trabajo.jpg\n",
      "\n",
      "\n",
      "BARRIOS MARTINEZ_LEIDY PAOLA_Binocular_2022_07_01-11_01_08_Visualización análisis lista de trabajoOI.labels.jpg\n",
      "BARRIOS MARTINEZ_LEIDY PAOLA_Binocular_2022_07_01-11_01_08_Visualización análisis lista de trabajoOI.jpg\n",
      "\n",
      "\n",
      "BAUTISTA_ALEJANDRA_Binocular_2020_03_02-16_09_11_Visualización análisis lista de trabajo.labels.jpg\n",
      "BAUTISTA_ALEJANDRA_Binocular_2020_03_02-16_09_11_Visualización análisis lista de trabajo.jpg\n",
      "\n",
      "\n",
      "BAUTISTA_ALEJANDRA_Binocular_2020_03_02-16_09_11_Visualización análisis lista de trabajoOI.labels.jpg\n",
      "BAUTISTA_ALEJANDRA_Binocular_2020_03_02-16_09_11_Visualización análisis lista de trabajoOI.jpg\n",
      "\n",
      "\n",
      "BECERRA DUARTE_KAREN DANIELA_Binocular_2021_10_26-11_52_52_Visualización análisis lista de trabajo.labels.jpg\n",
      "BECERRA DUARTE_KAREN DANIELA_Binocular_2021_10_26-11_52_52_Visualización análisis lista de trabajo.jpg\n",
      "\n",
      "\n",
      "BECERRA DUARTE_KAREN DANIELA_Binocular_2021_10_26-11_52_52_Visualización análisis lista de trabajoOI.labels.jpg\n",
      "BECERRA DUARTE_KAREN DANIELA_Binocular_2021_10_26-11_52_52_Visualización análisis lista de trabajoOI.jpg\n",
      "\n",
      "\n",
      "BEJARANO ROCHA_ANDRES DAVID_Binocular_2022_04_19-08_09_22_Visualización análisis lista de trabajo.labels.jpg\n",
      "BEJARANO ROCHA_ANDRES DAVID_Binocular_2022_04_19-08_09_22_Visualización análisis lista de trabajo.jpg\n",
      "\n",
      "\n",
      "BEJARANO ROCHA_ANDRES DAVID_Binocular_2022_04_19-08_09_22_Visualización análisis lista de trabajoOI.labels.jpg\n",
      "BEJARANO ROCHA_ANDRES DAVID_Binocular_2022_04_19-08_09_22_Visualización análisis lista de trabajoOI.jpg\n",
      "\n",
      "\n"
     ]
    }
   ],
   "source": [
    "for i in range(len(lista_imagenes_segmentadas)):\n",
    "    print(lista_imagenes_segmentadas[i])\n",
    "    print(lista_imagenes_crudas[i])\n",
    "    print(\"\\n\")"
   ]
  }
 ],
 "metadata": {
  "kernelspec": {
   "display_name": "Python 3 (ipykernel)",
   "language": "python",
   "name": "python3"
  },
  "language_info": {
   "codemirror_mode": {
    "name": "ipython",
    "version": 3
   },
   "file_extension": ".py",
   "mimetype": "text/x-python",
   "name": "python",
   "nbconvert_exporter": "python",
   "pygments_lexer": "ipython3",
   "version": "3.9.12"
  },
  "varInspector": {
   "cols": {
    "lenName": 16,
    "lenType": 16,
    "lenVar": 40
   },
   "kernels_config": {
    "python": {
     "delete_cmd_postfix": "",
     "delete_cmd_prefix": "del ",
     "library": "var_list.py",
     "varRefreshCmd": "print(var_dic_list())"
    },
    "r": {
     "delete_cmd_postfix": ") ",
     "delete_cmd_prefix": "rm(",
     "library": "var_list.r",
     "varRefreshCmd": "cat(var_dic_list()) "
    }
   },
   "types_to_exclude": [
    "module",
    "function",
    "builtin_function_or_method",
    "instance",
    "_Feature"
   ],
   "window_display": false
  }
 },
 "nbformat": 4,
 "nbformat_minor": 5
}
